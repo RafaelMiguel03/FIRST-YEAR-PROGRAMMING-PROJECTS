{
 "cells": [
  {
   "attachments": {},
   "cell_type": "markdown",
   "metadata": {},
   "source": [
    "# Importing Modules"
   ]
  },
  {
   "cell_type": "code",
   "execution_count": 9,
   "metadata": {},
   "outputs": [],
   "source": [
    "import pandas as pd\n",
    "import numpy as np"
   ]
  },
  {
   "attachments": {},
   "cell_type": "markdown",
   "metadata": {},
   "source": [
    "# Data Cleaning"
   ]
  },
  {
   "cell_type": "code",
   "execution_count": 10,
   "metadata": {},
   "outputs": [],
   "source": [
    "entertainment = pd.read_csv('entertainment_links.csv')\n",
    "tech = pd.read_csv('tech_links.csv')\n",
    "environment = pd.read_csv(\"environment_links.csv\")\n",
    "identity = pd.read_csv(\"identity_links.csv\")\n",
    "world_news = pd.read_csv(\"world_news_links.csv\")"
   ]
  },
  {
   "cell_type": "code",
   "execution_count": 11,
   "metadata": {},
   "outputs": [],
   "source": [
    "def fix_date(df, df_name):\n",
    "    for i, x in enumerate(df['date']):\n",
    "        if x.__contains__('HOURS'):\n",
    "            df.loc[i, 'date'] = '3.8.23'\n",
    "        elif x == \"A DAY AGO\":\n",
    "            df.loc[i, 'date'] = '3.8.23'\n",
    "        elif x == \"2 DAYS AGO\":\n",
    "            df.loc[i, 'date'] = '3.7.23'\n",
    "        elif x == \"3 DAYS AGO\":\n",
    "            df.loc[i, 'date'] = '3.6.23'\n",
    "    \n",
    "    df['type'] = df_name\n",
    "    return df"
   ]
  },
  {
   "cell_type": "code",
   "execution_count": 12,
   "metadata": {},
   "outputs": [],
   "source": [
    "entertainment = fix_date(entertainment, 'entertainment')\n",
    "tech = fix_date(tech, 'tech')\n",
    "environment = fix_date(environment, 'environment')\n",
    "identity = fix_date(identity, 'identity')\n",
    "world_news = fix_date(world_news, 'world_news')"
   ]
  },
  {
   "attachments": {},
   "cell_type": "markdown",
   "metadata": {},
   "source": [
    "### Merging of Data"
   ]
  },
  {
   "cell_type": "code",
   "execution_count": 13,
   "metadata": {},
   "outputs": [
    {
     "data": {
      "text/html": [
       "<div>\n",
       "<style scoped>\n",
       "    .dataframe tbody tr th:only-of-type {\n",
       "        vertical-align: middle;\n",
       "    }\n",
       "\n",
       "    .dataframe tbody tr th {\n",
       "        vertical-align: top;\n",
       "    }\n",
       "\n",
       "    .dataframe thead th {\n",
       "        text-align: right;\n",
       "    }\n",
       "</style>\n",
       "<table border=\"1\" class=\"dataframe\">\n",
       "  <thead>\n",
       "    <tr style=\"text-align: right;\">\n",
       "      <th></th>\n",
       "      <th>link</th>\n",
       "      <th>title</th>\n",
       "      <th>author</th>\n",
       "      <th>date</th>\n",
       "      <th>type</th>\n",
       "    </tr>\n",
       "  </thead>\n",
       "  <tbody>\n",
       "    <tr>\n",
       "      <th>0</th>\n",
       "      <td>https://www.vice.com/en/article/93k9q3/philipp...</td>\n",
       "      <td>The Philippines Has Never Won an Oscar. Does I...</td>\n",
       "      <td>LÉ BALTAR</td>\n",
       "      <td>3.8.23</td>\n",
       "      <td>entertainment</td>\n",
       "    </tr>\n",
       "    <tr>\n",
       "      <th>1</th>\n",
       "      <td>https://www.vice.com/en/article/z34j98/music-c...</td>\n",
       "      <td>These People Wait Hours To Buy Concert Tickets...</td>\n",
       "      <td>MICAH AVRY GUIAO</td>\n",
       "      <td>3.3.23</td>\n",
       "      <td>entertainment</td>\n",
       "    </tr>\n",
       "    <tr>\n",
       "      <th>2</th>\n",
       "      <td>https://www.vice.com/en/article/xgyea7/movies-...</td>\n",
       "      <td>5 Movies on the Realities of Inter-Caste Love ...</td>\n",
       "      <td>ARMAN KHAN</td>\n",
       "      <td>2.27.23</td>\n",
       "      <td>entertainment</td>\n",
       "    </tr>\n",
       "    <tr>\n",
       "      <th>3</th>\n",
       "      <td>https://www.vice.com/en/article/m7gm9a/cocaine...</td>\n",
       "      <td>I Watched ‘Cocaine Bear’ on a Comedown</td>\n",
       "      <td>BEN CHARLIE SMOKE</td>\n",
       "      <td>2.24.23</td>\n",
       "      <td>entertainment</td>\n",
       "    </tr>\n",
       "    <tr>\n",
       "      <th>4</th>\n",
       "      <td>https://www.vice.com/en/article/pkg7kn/sensiti...</td>\n",
       "      <td>What Sensitivity Readers Actually Do, From a P...</td>\n",
       "      <td>RUCHIRA SHARMA</td>\n",
       "      <td>2.23.23</td>\n",
       "      <td>entertainment</td>\n",
       "    </tr>\n",
       "  </tbody>\n",
       "</table>\n",
       "</div>"
      ],
      "text/plain": [
       "                                                link  \\\n",
       "0  https://www.vice.com/en/article/93k9q3/philipp...   \n",
       "1  https://www.vice.com/en/article/z34j98/music-c...   \n",
       "2  https://www.vice.com/en/article/xgyea7/movies-...   \n",
       "3  https://www.vice.com/en/article/m7gm9a/cocaine...   \n",
       "4  https://www.vice.com/en/article/pkg7kn/sensiti...   \n",
       "\n",
       "                                               title             author  \\\n",
       "0  The Philippines Has Never Won an Oscar. Does I...          LÉ BALTAR   \n",
       "1  These People Wait Hours To Buy Concert Tickets...   MICAH AVRY GUIAO   \n",
       "2  5 Movies on the Realities of Inter-Caste Love ...         ARMAN KHAN   \n",
       "3             I Watched ‘Cocaine Bear’ on a Comedown  BEN CHARLIE SMOKE   \n",
       "4  What Sensitivity Readers Actually Do, From a P...     RUCHIRA SHARMA   \n",
       "\n",
       "      date           type  \n",
       "0   3.8.23  entertainment  \n",
       "1   3.3.23  entertainment  \n",
       "2  2.27.23  entertainment  \n",
       "3  2.24.23  entertainment  \n",
       "4  2.23.23  entertainment  "
      ]
     },
     "execution_count": 13,
     "metadata": {},
     "output_type": "execute_result"
    }
   ],
   "source": [
    "df = pd.concat([entertainment, tech, environment, identity, world_news], ignore_index=True)\n",
    "df.head()"
   ]
  },
  {
   "attachments": {},
   "cell_type": "markdown",
   "metadata": {},
   "source": [
    "### Data checking for unclean data"
   ]
  },
  {
   "cell_type": "code",
   "execution_count": 14,
   "metadata": {},
   "outputs": [
    {
     "data": {
      "text/html": [
       "<div>\n",
       "<style scoped>\n",
       "    .dataframe tbody tr th:only-of-type {\n",
       "        vertical-align: middle;\n",
       "    }\n",
       "\n",
       "    .dataframe tbody tr th {\n",
       "        vertical-align: top;\n",
       "    }\n",
       "\n",
       "    .dataframe thead th {\n",
       "        text-align: right;\n",
       "    }\n",
       "</style>\n",
       "<table border=\"1\" class=\"dataframe\">\n",
       "  <thead>\n",
       "    <tr style=\"text-align: right;\">\n",
       "      <th></th>\n",
       "      <th>link</th>\n",
       "      <th>title</th>\n",
       "      <th>author</th>\n",
       "      <th>date</th>\n",
       "      <th>type</th>\n",
       "    </tr>\n",
       "  </thead>\n",
       "  <tbody>\n",
       "  </tbody>\n",
       "</table>\n",
       "</div>"
      ],
      "text/plain": [
       "Empty DataFrame\n",
       "Columns: [link, title, author, date, type]\n",
       "Index: []"
      ]
     },
     "execution_count": 14,
     "metadata": {},
     "output_type": "execute_result"
    }
   ],
   "source": [
    "df[df['date'].str.contains(\"AGO\")]"
   ]
  },
  {
   "cell_type": "code",
   "execution_count": 15,
   "metadata": {},
   "outputs": [
    {
     "data": {
      "text/html": [
       "<div>\n",
       "<style scoped>\n",
       "    .dataframe tbody tr th:only-of-type {\n",
       "        vertical-align: middle;\n",
       "    }\n",
       "\n",
       "    .dataframe tbody tr th {\n",
       "        vertical-align: top;\n",
       "    }\n",
       "\n",
       "    .dataframe thead th {\n",
       "        text-align: right;\n",
       "    }\n",
       "</style>\n",
       "<table border=\"1\" class=\"dataframe\">\n",
       "  <thead>\n",
       "    <tr style=\"text-align: right;\">\n",
       "      <th></th>\n",
       "      <th>link</th>\n",
       "      <th>title</th>\n",
       "      <th>author</th>\n",
       "      <th>date</th>\n",
       "      <th>type</th>\n",
       "    </tr>\n",
       "  </thead>\n",
       "  <tbody>\n",
       "    <tr>\n",
       "      <th>count</th>\n",
       "      <td>10145</td>\n",
       "      <td>10145</td>\n",
       "      <td>10142</td>\n",
       "      <td>10145</td>\n",
       "      <td>10145</td>\n",
       "    </tr>\n",
       "    <tr>\n",
       "      <th>unique</th>\n",
       "      <td>10145</td>\n",
       "      <td>10126</td>\n",
       "      <td>1667</td>\n",
       "      <td>1739</td>\n",
       "      <td>5</td>\n",
       "    </tr>\n",
       "    <tr>\n",
       "      <th>top</th>\n",
       "      <td>https://www.vice.com/en/article/93k9q3/philipp...</td>\n",
       "      <td>The VICE Morning Bulletin</td>\n",
       "      <td>MATTHEW GAULT</td>\n",
       "      <td>2.25.22</td>\n",
       "      <td>tech</td>\n",
       "    </tr>\n",
       "    <tr>\n",
       "      <th>freq</th>\n",
       "      <td>1</td>\n",
       "      <td>11</td>\n",
       "      <td>520</td>\n",
       "      <td>33</td>\n",
       "      <td>4020</td>\n",
       "    </tr>\n",
       "  </tbody>\n",
       "</table>\n",
       "</div>"
      ],
      "text/plain": [
       "                                                     link  \\\n",
       "count                                               10145   \n",
       "unique                                              10145   \n",
       "top     https://www.vice.com/en/article/93k9q3/philipp...   \n",
       "freq                                                    1   \n",
       "\n",
       "                            title         author     date   type  \n",
       "count                       10145          10142    10145  10145  \n",
       "unique                      10126           1667     1739      5  \n",
       "top     The VICE Morning Bulletin  MATTHEW GAULT  2.25.22   tech  \n",
       "freq                           11            520       33   4020  "
      ]
     },
     "execution_count": 15,
     "metadata": {},
     "output_type": "execute_result"
    }
   ],
   "source": [
    "df.describe()"
   ]
  },
  {
   "cell_type": "code",
   "execution_count": 16,
   "metadata": {},
   "outputs": [
    {
     "data": {
      "text/plain": [
       "tech             4020\n",
       "world_news       2010\n",
       "entertainment    1660\n",
       "identity         1629\n",
       "environment       826\n",
       "Name: type, dtype: int64"
      ]
     },
     "execution_count": 16,
     "metadata": {},
     "output_type": "execute_result"
    }
   ],
   "source": [
    "df['type'].value_counts()"
   ]
  },
  {
   "cell_type": "code",
   "execution_count": 17,
   "metadata": {},
   "outputs": [
    {
     "data": {
      "text/plain": [
       "link      0\n",
       "title     0\n",
       "author    3\n",
       "date      0\n",
       "type      0\n",
       "dtype: int64"
      ]
     },
     "execution_count": 17,
     "metadata": {},
     "output_type": "execute_result"
    }
   ],
   "source": [
    "df.isna().sum()"
   ]
  },
  {
   "attachments": {},
   "cell_type": "markdown",
   "metadata": {},
   "source": [
    "#### Exporting Data"
   ]
  },
  {
   "cell_type": "code",
   "execution_count": 18,
   "metadata": {},
   "outputs": [],
   "source": [
    "df.to_csv(\"vice_10k_articles.csv\", index=False)"
   ]
  }
 ],
 "metadata": {
  "kernelspec": {
   "display_name": "Python 3",
   "language": "python",
   "name": "python3"
  },
  "language_info": {
   "codemirror_mode": {
    "name": "ipython",
    "version": 3
   },
   "file_extension": ".py",
   "mimetype": "text/x-python",
   "name": "python",
   "nbconvert_exporter": "python",
   "pygments_lexer": "ipython3",
   "version": "3.11.1"
  },
  "orig_nbformat": 4
 },
 "nbformat": 4,
 "nbformat_minor": 2
}
